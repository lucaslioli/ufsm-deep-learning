{
 "cells": [
  {
   "cell_type": "code",
   "execution_count": 13,
   "metadata": {},
   "outputs": [],
   "source": [
    "from keras.datasets import mnist\n",
    "from keras.models import Sequential\n",
    "from keras.layers import Dense\n",
    "from keras.layers import Dropout\n",
    "from keras.layers import Flatten\n",
    "from keras.layers.convolutional import Conv2D\n",
    "from keras.layers.convolutional import MaxPooling2D\n",
    "import numpy as np\n",
    "from matplotlib import pyplot as plt\n",
    "from keras.utils import np_utils\n",
    "import cv2\n",
    "import os\n",
    "\n",
    "# Indica que será utilizada a ordem das dimensões do Theano\n",
    "from keras import backend as K\n",
    "K.set_image_dim_ordering('th')\n",
    "\n",
    "# Indica que os gráficos serão mostrados no jupyter\n",
    "%matplotlib inline"
   ]
  },
  {
   "cell_type": "code",
   "execution_count": 14,
   "metadata": {
    "collapsed": true
   },
   "outputs": [],
   "source": [
    "def load_data():\n",
    "    # Separa os dados e rótulos de treinamento e validação\n",
    "    (data_train, label_train), (data_test, label_test) = mnist.load_data()\n",
    "\n",
    "    # Realiza o reshape para ficar com 60k imagens, com canal 1 para escala de cinza, com tamanho 28x28\n",
    "    data_train = data_train.reshape(data_train.shape[0], 1, 28, 28).astype('float32')\n",
    "    print(\"Shape dos dados de treinamento: \", data_train.shape)\n",
    "\n",
    "    # Realiza o reshape também para os dados de validação\n",
    "    data_test = data_test.reshape(data_test.shape[0], 1, 28, 28).astype('float32')\n",
    "    print(\"Shape dos dados de validação: \", data_test.shape)\n",
    "\n",
    "    # Faz com que os dados fiquem com valores entre 0 e 1 ao invés de 0 e 255\n",
    "    data_train = data_train / 255\n",
    "    data_test = data_test / 255\n",
    "\n",
    "    # Adiciona quantidade total de categorias na posição [1] dos vetores de labels\n",
    "    label_train = np_utils.to_categorical(label_train)\n",
    "    print(\"Shape dos rótulos de treinamento: \", label_train.shape)\n",
    "    label_test = np_utils.to_categorical(label_test)\n",
    "    print(\"Shape dos rótulos de valiação: \", label_train.shape)\n",
    "\n",
    "    return data_train, label_train, data_test, label_test"
   ]
  },
  {
   "cell_type": "code",
   "execution_count": 3,
   "metadata": {},
   "outputs": [
    {
     "name": "stdout",
     "output_type": "stream",
     "text": [
      "Shape dos dados de treinamento:  (60000, 1, 28, 28)\n",
      "Shape dos dados de validação:  (10000, 1, 28, 28)\n"
     ]
    }
   ],
   "source": [
    "# Carrega todos os dados dentro das variáveis\n",
    "data_train, label_train, data_test, label_test = load_data()\n",
    "\n",
    "# Número de classes que serão categorizadas\n",
    "num_classes = label_test.shape[1]\n",
    "\n",
    "# O model será exportado para este arquivo\n",
    "filename='mnistneuralnet.h5'"
   ]
  },
  {
   "cell_type": "code",
   "execution_count": 4,
   "metadata": {
    "collapsed": true
   },
   "outputs": [],
   "source": [
    "def model():\n",
    "    # Instancia stack de camadas\n",
    "    model = Sequential()\n",
    "    \n",
    "    # Adiciona camada convolucional, com Kernel = 5x5\n",
    "    model.add(Conv2D(30, (5, 5), input_shape=(1, 28, 28), activation='relu'))\n",
    "    \n",
    "    # Adiciona camada de pooling para redução de dimensionalidade (subamostragem)\n",
    "    model.add(MaxPooling2D(pool_size=(2, 2)))\n",
    "\n",
    "    # Outra camada convolucional, com Kernel = 3x3\n",
    "    model.add(Conv2D(15, (3, 3), input_shape=(1, 28, 28), activation='relu'))\n",
    "\n",
    "    # Outra camada de pooling para redução de dimensionalidade (subamostragem)\n",
    "    model.add(MaxPooling2D(pool_size=(2, 2)))\n",
    "\n",
    "    # Realiza regularização para desligar alguns neurônios de aleatóriamente com probabilidade de 20%\n",
    "    model.add(Dropout(0.2))\n",
    "    \n",
    "    # Converte matriz para vetor de tamanho único\n",
    "    model.add(Flatten())\n",
    "\n",
    "    # Adiciona camadas densamente conectadas com 128, 64 e 32 neurônios\n",
    "    model.add(Dense(128, activation='relu'))\n",
    "    model.add(Dense(64, activation='relu'))\n",
    "    model.add(Dense(32, activation='relu'))\n",
    "    \n",
    "    # Última camada densa que irá classificar o mesmo número de neurôios que o número de clases\n",
    "    model.add(Dense(num_classes, activation='softmax', name='predict'))\n",
    "\n",
    "    # Compila a arquitetura para que o Keras possa formar a rede\n",
    "    model.compile(loss='categorical_crossentropy', optimizer='adam', metrics=['accuracy'])\n",
    "    \n",
    "    return model"
   ]
  },
  {
   "cell_type": "code",
   "execution_count": 5,
   "metadata": {},
   "outputs": [
    {
     "name": "stdout",
     "output_type": "stream",
     "text": [
      "_________________________________________________________________\n",
      "Layer (type)                 Output Shape              Param #   \n",
      "=================================================================\n",
      "conv2d_1 (Conv2D)            (None, 30, 24, 24)        780       \n",
      "_________________________________________________________________\n",
      "max_pooling2d_1 (MaxPooling2 (None, 30, 12, 12)        0         \n",
      "_________________________________________________________________\n",
      "conv2d_2 (Conv2D)            (None, 15, 10, 10)        4065      \n",
      "_________________________________________________________________\n",
      "max_pooling2d_2 (MaxPooling2 (None, 15, 5, 5)          0         \n",
      "_________________________________________________________________\n",
      "dropout_1 (Dropout)          (None, 15, 5, 5)          0         \n",
      "_________________________________________________________________\n",
      "flatten_1 (Flatten)          (None, 375)               0         \n",
      "_________________________________________________________________\n",
      "dense_1 (Dense)              (None, 128)               48128     \n",
      "_________________________________________________________________\n",
      "dense_2 (Dense)              (None, 64)                8256      \n",
      "_________________________________________________________________\n",
      "dense_3 (Dense)              (None, 32)                2080      \n",
      "_________________________________________________________________\n",
      "predict (Dense)              (None, 10)                330       \n",
      "=================================================================\n",
      "Total params: 63,639\n",
      "Trainable params: 63,639\n",
      "Non-trainable params: 0\n",
      "_________________________________________________________________\n"
     ]
    }
   ],
   "source": [
    "# Cria o modelo\n",
    "model = model()\n",
    "# Mostra um resumo da arquitetura da rede\n",
    "model.summary()"
   ]
  },
  {
   "cell_type": "code",
   "execution_count": 6,
   "metadata": {
    "collapsed": true
   },
   "outputs": [],
   "source": [
    "# Verifica se já existe um modelo treinado e exportado para um arquivo .h5.\n",
    "if not os.path.exists('./{}'.format(filename) ):\n",
    "    # Um novo modelo será treinado, através do método fit, caso este arquivo não exista.\n",
    "    model.fit(data_train, label_train, validation_data=(data_test, label_test), epochs=10, batch_size=200)\n",
    "    model.save_weights(filename)\n",
    "else:\n",
    "    # carrega um modelo previamente treinado\n",
    "    model.load_weights('./{}'.format(filename) )"
   ]
  },
  {
   "cell_type": "code",
   "execution_count": 7,
   "metadata": {},
   "outputs": [
    {
     "name": "stdout",
     "output_type": "stream",
     "text": [
      "\n",
      "acc: 99.09%\n"
     ]
    }
   ],
   "source": [
    "# Avalia o modelo com base nos dados de validaçãp\n",
    "scores = model.evaluate(data_test, label_test, verbose=0)\n",
    "# Exibe a acuracia do modelo criado\n",
    "print(\"\\nacc: %.2f%%\" % (scores[1]*100))"
   ]
  },
  {
   "cell_type": "code",
   "execution_count": 10,
   "metadata": {},
   "outputs": [
    {
     "data": {
      "text/plain": [
       "<matplotlib.image.AxesImage at 0x7f576ab445c0>"
      ]
     },
     "execution_count": 10,
     "metadata": {},
     "output_type": "execute_result"
    },
    {
     "data": {
      "image/png": "[encoded data removed]",
      "text/plain": [
       "<matplotlib.figure.Figure at 0x7f5768e728d0>"
      ]
     },
     "metadata": {},
     "output_type": "display_data"
    }
   ],
   "source": [
    "# Lê a imagem extra para teste utilizando o OpenCV\n",
    "img_pred = cv2.imread(\"sp_noise.jpg\", 0)\n",
    "\n",
    "# Aplica threshold utilizando uma média dos picos do histograma (Otsu binarization)\n",
    "_, thresh = cv2.threshold(img_pred, 0, 255, cv2.THRESH_BINARY + cv2.THRESH_OTSU)\n",
    "\n",
    "# Kernel de 3x3 (as imagens são geralmente de baixa resolução)\n",
    "kernel = np.ones((3,3), np.uint8)\n",
    "\n",
    "# Aplica opening na imagem para remoção de ruídos no background\n",
    "opening = cv2.morphologyEx(thresh, cv2.MORPH_OPEN, kernel)\n",
    "\n",
    "# Aplica closing na imagem para remoção de ruídos no foreground\n",
    "closing = cv2.morphologyEx(opening, cv2.MORPH_CLOSE, kernel)\n",
    "\n",
    "# Aplica filtro utilizando kernel que valoriza o valor do ponto central, aumentando a nitidez\n",
    "kernel = np.array([[-1,-1,-1], [-1,9,-1], [-1,-1,-1]])\n",
    "img_pred = cv2.filter2D(closing, -1, kernel)\n",
    "\n",
    "# Exibe a imagem\n",
    "plt.imshow(img_pred, cmap='gray')"
   ]
  },
  {
   "cell_type": "code",
   "execution_count": 11,
   "metadata": {},
   "outputs": [
    {
     "name": "stdout",
     "output_type": "stream",
     "text": [
      "(1, 1, 28, 28)\n"
     ]
    }
   ],
   "source": [
    "# Verifica se a imagem está nas dimensões corretas (28x28)\n",
    "if img_pred.shape != [28,28]:\n",
    "    # Se não estiver, redimensiona a imagem\n",
    "    img2 = cv2.resize(img_pred, (28, 28))\n",
    "    img_pred = img2.reshape(28, 28, -1)\n",
    "else:\n",
    "    img_pred = img_pred.reshape(28, 28, -1)\n",
    "    \n",
    "img_pred = img_pred.reshape(1, 1, 28, 28).astype('float32')\n",
    "\n",
    "img_pred = img_pred/255.0\n",
    "\n",
    "print(img_pred.shape)"
   ]
  },
  {
   "cell_type": "code",
   "execution_count": 12,
   "metadata": {},
   "outputs": [
    {
     "name": "stdout",
     "output_type": "stream",
     "text": [
      "5  com confiança de  95.83%\n"
     ]
    }
   ],
   "source": [
    "# Realiza classificação a partir da imagem extra\n",
    "pred = model.predict_classes(img_pred)\n",
    "\n",
    "# Calcula a probablidade da classificação estar correta\n",
    "pred_proba = model.predict_proba(img_pred)\n",
    "\n",
    "# Imprime a probabilidade\n",
    "pred_proba = \"%.2f%%\" % (pred_proba[0][pred]*100)\n",
    "print(pred[0], \" com confiança de \", pred_proba)"
   ]
  }
 ],
 "metadata": {
  "kernelspec": {
   "display_name": "Python 3",
   "language": "python",
   "name": "python3"
  },
  "language_info": {
   "codemirror_mode": {
    "name": "ipython",
    "version": 3
   },
   "file_extension": ".py",
   "mimetype": "text/x-python",
   "name": "python",
   "nbconvert_exporter": "python",
   "pygments_lexer": "ipython3",
   "version": "3.6.3"
  }
 },
 "nbformat": 4,
 "nbformat_minor": 2
}
