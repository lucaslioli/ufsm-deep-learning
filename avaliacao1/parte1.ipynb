{
 "cells": [
  {
   "cell_type": "markdown",
   "metadata": {
    "colab_type": "text",
    "id": "-dYDXgOXjMYB"
   },
   "source": [
    "## Parte 1\n",
    "\n",
    "Neste exercício, tomando o código abaixo como ponto de partida, você vai desenvolver uma rede neural capaz de classificar diferentes artigos de vestuário. Para isso, você deverá implementar uma rede neural do tipo perceptron utilizando apenas NumPy (sem o auxílio de bibliotecas como TensorFlow, Theano, Torch, Caffe).\n",
    "\n",
    "Para a realização deste exercício utilizaremos a base de dados [Fashion-MNIST](https://github.com/zalandoresearch/fashion-mnist). A base de dados consiste em imagens monocromáticas de tamanho 28x28 pixels, cada imagem acompanhada de uma etiqueta que identifica a classe à qual ela pertence -- a classe representa a categoria de artigo de vestuário mostrado na imagem.\n",
    "\n",
    "Critérios de avaliação:\n",
    "- 1) Implementação da rede neural com pelo menos uma camada escondida e função ou método de *Forward propagation* (1,5 ponto)\n",
    "- 2) Implementação do algoritmo de *back propagation*  (2,5 pontos)\n",
    "- 3) Definição adequada da função de erro e cálculo da derivada no algoritmo de *back propagation*  (1,5 ponto)\n",
    "- 4) Treinamento demonstrando redução gradual do erro nos dados de treinamento (1,5 ponto)\n",
    "- 5) Treinamento demonstrando redução gradual do erro nos dados de validação  (1,5 ponto)\n",
    "- 6) Mostrar alcance de pelo menos 84% de exatidão nos dados de validação  (1,5 ponto)\n",
    "- **Ponto Extra:** Alcance de 87% ou mais de exatidão nos dados de validação  (1,0 ponto)"
   ]
  },
  {
   "cell_type": "code",
   "execution_count": null,
   "metadata": {
    "colab": {
     "autoexec": {
      "startup": false,
      "wait_interval": 0
     }
    },
    "colab_type": "code",
    "collapsed": true,
    "id": "QlngejxvjMYC"
   },
   "outputs": [],
   "source": [
    "# Importa as bibliotecas que serão utilizadas\n",
    "\n",
    "import csv\n",
    "import numpy as np\n",
    "from matplotlib import pyplot as plt\n",
    "import random\n",
    "from sklearn import datasets\n",
    "from sklearn.model_selection import train_test_split\n",
    "\n",
    "# Configura precisão para impressão de arrays do NumPy\n",
    "np.set_printoptions(formatter={'float':lambda x: '%+01.2f ' % x})"
   ]
  },
  {
   "cell_type": "code",
   "execution_count": null,
   "metadata": {
    "colab": {
     "autoexec": {
      "startup": false,
      "wait_interval": 0
     }
    },
    "colab_type": "code",
    "collapsed": true,
    "id": "QsIhjEbzjMYG"
   },
   "outputs": [],
   "source": [
    "# Define dicionário para as etiquetas que\n",
    "# representam cada classe\n",
    "\n",
    "label_dict = {0:'T-shirt/top', 1:'Trouser', 2:'Pullover', 3:'Dress', 4:'Coat', 5:'Sandal',\\\n",
    "              6:'Shirt', 7:'Sneaker', 8:'Bag', 9:'Ankle boot' }\n",
    "\n",
    "# Define função auxiliar para retornar o nome\n",
    "# da classe correspondente para cada índice\n",
    "\n",
    "def get_label(label_array):\n",
    "    return label_dict[np.argmax(label_array)]"
   ]
  },
  {
   "cell_type": "code",
   "execution_count": null,
   "metadata": {
    "colab": {
     "autoexec": {
      "startup": false,
      "wait_interval": 0
     }
    },
    "colab_type": "code",
    "collapsed": true,
    "id": "JSCLr_o4jMYJ"
   },
   "outputs": [],
   "source": [
    "# Define função auxiliar para leitura dos\n",
    "# dados a partir de arquivos no formato CSV\n",
    "\n",
    "def readfile(filename, total):\n",
    "    with open(filename,'r') as csvfile:\n",
    "        \n",
    "        rows = csv.reader(csvfile)\n",
    "        labels = np.zeros((total,10),dtype=np.float32)\n",
    "        images = np.zeros((total,28*28),dtype=np.float32)\n",
    "        i = 0\n",
    "        \n",
    "        for row in rows:\n",
    "            if i > 0:\n",
    "                data = np.array([float(x) for x in row]).astype(np.float32)\n",
    "                labels[i-1,:] = (np.arange(0,10) == data[0]).astype(np.float32)\n",
    "                images[i-1,:] = (data[1:] / 255.0) - 0.5\n",
    "            i = i + 1\n",
    "        \n",
    "        return images, labels"
   ]
  },
  {
   "cell_type": "code",
   "execution_count": null,
   "metadata": {
    "colab": {
     "autoexec": {
      "startup": false,
      "wait_interval": 0
     },
     "base_uri": "https://localhost:8080/",
     "height": 301
    },
    "colab_type": "code",
    "collapsed": true,
    "executionInfo": {
     "elapsed": 549,
     "status": "error",
     "timestamp": 1524757667378,
     "user": {
      "displayName": "Clecio Rodrigues Dos Santos Neto",
      "photoUrl": "https://lh3.googleusercontent.com/a/default-user=s128",
      "userId": "108006519207434356862"
     },
     "user_tz": 180
    },
    "id": "NN1NOI5BjMYL",
    "outputId": "d9122a6b-5022-4a74-d0e9-af99a0157bd2"
   },
   "outputs": [],
   "source": [
    "# Lê os dados de treinamento\n",
    "\n",
    "train_images, train_labels = readfile('fashion-mnist_train.csv',60000)"
   ]
  },
  {
   "cell_type": "code",
   "execution_count": null,
   "metadata": {
    "colab": {
     "autoexec": {
      "startup": false,
      "wait_interval": 0
     }
    },
    "colab_type": "code",
    "collapsed": true,
    "id": "DFSjAAS_jMYO"
   },
   "outputs": [],
   "source": [
    "# Lê os dados de validação\n",
    "\n",
    "test_images, test_labels = readfile('fashion-mnist_test.csv',10000)"
   ]
  },
  {
   "cell_type": "code",
   "execution_count": null,
   "metadata": {
    "colab": {
     "autoexec": {
      "startup": false,
      "wait_interval": 0
     }
    },
    "colab_type": "code",
    "id": "0c4xc670jMYR",
    "outputId": "3ba71c1f-9da2-4b4e-9157-e89ea7eaa745"
   },
   "outputs": [],
   "source": [
    "# Mostra alguns exemplos de dados para verificação\n",
    "# (a cada execução mostra uma amostra diferente)\n",
    "\n",
    "i = np.random.randint(0,test_images.shape[0])\n",
    "image = test_images[i,:].reshape((28,28))\n",
    "print(i)\n",
    "print(get_label(test_labels[i,:]))\n",
    "plt.imshow(image)\n",
    "plt.show()"
   ]
  },
  {
   "cell_type": "code",
   "execution_count": null,
   "metadata": {
    "colab": {
     "autoexec": {
      "startup": false,
      "wait_interval": 0
     }
    },
    "colab_type": "code",
    "collapsed": true,
    "id": "If2YaBsvjMYZ"
   },
   "outputs": [],
   "source": [
    "#size_data            = len(train_images)      # numero de dados totais\n",
    "#size_data_training   = test_labels.shape[0]   # numero de dados para treinamento\n",
    "Size_colun_data       = train_images.shape[1]  # numero de colunas de dados"
   ]
  },
  {
   "cell_type": "code",
   "execution_count": null,
   "metadata": {
    "colab": {
     "autoexec": {
      "startup": false,
      "wait_interval": 0
     }
    },
    "colab_type": "code",
    "collapsed": true,
    "id": "0-Zv7H2bjMYb"
   },
   "outputs": [],
   "source": [
    "# Rede neural # Caixa Preta\n",
    "\n",
    "# Função Sigmóide - Fixa\n",
    "def sigmoid(x):\n",
    "    return 1.0 / (1 + np.exp(-x))\n",
    "\n",
    "# Questão 1\n",
    "class RedeNeural:\n",
    "    \n",
    "    def __init__(self,num_neuronios):\n",
    "        # Configurações da rede\n",
    "        self.size_data_validation = test_images.shape[0] # numero de dados para validação\n",
    "        self.tot_colunas_saida    = test_labels.shape[1] # quantidade de valores possiveis na saida\n",
    "    \n",
    "        # Camada escondida/hidden\n",
    "        # Gera matriz 784 x 100 com valores aleatórios entre -1 e 1\n",
    "        self.Wh     = np.random.random((Size_colun_data,num_neuronios))*2.0 - 1.0\n",
    "        # Gera matriz 1 x 100 com valores aleatórios entre -1 e 1\n",
    "        self.bh     = np.random.random((1,num_neuronios))*2.0 - 1.0\n",
    "        \n",
    "        # Camada de saída/output\n",
    "        # Gera matriz 100 x 10 com valores aleatórios entre -1 e 1\n",
    "        self.Wo     = np.random.random((num_neuronios,self.tot_colunas_saida))*2.0 - 1.0\n",
    "        # Gera matriz 1 x 10 com valores aleatórios entre -1 e 1\n",
    "        self.bo     = np.random.random((1,self.tot_colunas_saida))*2.0 - 1.0\n",
    "        \n",
    "        # Delta camada escondida e saída\n",
    "        # Gera matriz de 1 x 100 com valores entre -1 e 1\n",
    "        self.deltah = np.random.random((1,num_neuronios))*2.0 - 1.0\n",
    "        # Gera matriz de 1 x 10 com valores entre -1 e 1\n",
    "        self.deltao = np.random.random((1,self.tot_colunas_saida))*2.0 - 1.0\n",
    "    \n",
    "    def forward(self, entrada):\n",
    "        # s denota a entrada para a função de ativação\n",
    "        self.sh = np.dot(entrada,self.Wh) + self.bh\n",
    "        \n",
    "        # z denota a saída após a função de ativação\n",
    "        self.zh = sigmoid(self.sh)\n",
    "        \n",
    "        self.so = np.dot(self.zh,self.Wo) + self.bo\n",
    "        self.zo = sigmoid(self.so)\n",
    "        \n",
    "        return self.zo\n",
    "    \n",
    "    # Questão 2\n",
    "    def train(self, entradas, saidas, taxa_correcao):\n",
    "        \n",
    "        self.eta = taxa_correcao\n",
    "        Err = 0.0\n",
    "        \n",
    "        #1 Apresenta a entrada x e calcula sh e zh para todas camadas\n",
    "        for i in range(entradas.shape[0]):\n",
    "            # entrada passa para 1x784 \n",
    "            entrada = entradas[i,:].reshape(1,Size_colun_data)    # Entrada é a imagem\n",
    "            # saida passa para 1x10\n",
    "            saida = saidas[i,:].reshape(1,self.tot_colunas_saida) # Categoria da imagem # parece one-hot\n",
    "            \n",
    "            self.forward(entrada)\n",
    "            \n",
    "            err = self.zo - saida\n",
    "            Err = Err + np.sum(err**2) / 2\n",
    "            \n",
    "            #3 Calcula delta saida para cada neuronio de saida\n",
    "            self.deltao = (self.zo - saida)*self.zo*(1-self.zo)\n",
    "          \n",
    "            #4 Calcula delta camada escondida para cada neurônio das camadas escondidas até a entrada\n",
    "            self.deltah = np.dot(self.deltao,self.Wo.T)*self.zh*(1-self.zh)\n",
    "          \n",
    "            # Questão 3\n",
    "            #5 Atualizar os pesos(W) e biases(b)\n",
    "            self.Wo = self.Wo - self.eta * np.dot(self.zh.T, self.deltao)\n",
    "            self.bo = self.bo - self.eta * self.deltao\n",
    "            \n",
    "            self.Wh = self.Wh - self.eta * np.dot(entrada.T,self.deltah) \n",
    "            self.bh = self.bh - self.eta * self.deltah\n",
    "        \n",
    "        return Err"
   ]
  },
  {
   "cell_type": "code",
   "execution_count": null,
   "metadata": {
    "collapsed": true
   },
   "outputs": [],
   "source": [
    "def Teste(redes,labelsTest,entradasTest):\n",
    "    numRedes = len(redes)\n",
    "    numLabels = labelsTest.shape[0]\n",
    "    numSaidas = labelsTest.shape[1]\n",
    "    \n",
    "    saida = np.zeros((numRedes,numLabels,numSaidas))\n",
    "    \n",
    "    numAcertos = 0\n",
    "    numErros = 0\n",
    "    \n",
    "    for i in range(numRedes):\n",
    "        saida[i,:,:] = redes[i].forward(entradasTest)\n",
    "    \n",
    "    for i in range(numLabels):\n",
    "        escolhe = 0\n",
    "        resposta = 0\n",
    "        respostaCerta = 0\n",
    "    \n",
    "        for j in range(numSaidas):\n",
    "            soma = saida[:,i,j].sum()\n",
    "            \n",
    "            if(labelsTest[i,j] == 1):\n",
    "                respostaCerta = j\n",
    "            \n",
    "            if(escolhe < soma):\n",
    "                escolhe = soma\n",
    "                resposta = j\n",
    "        \n",
    "        if(resposta == respostaCerta):\n",
    "            numAcertos = numAcertos + 1\n",
    "        else:\n",
    "            numErros = numErros + 1\n",
    "    \n",
    "    pxAcertos = (100/(numLabels)) * numAcertos\n",
    "    return pxAcertos"
   ]
  },
  {
   "cell_type": "code",
   "execution_count": null,
   "metadata": {
    "collapsed": true
   },
   "outputs": [],
   "source": [
    "#instancia a rede neural\n",
    "numRedes = 2\n",
    "alfa = 0.5;\n",
    "quant_neuronios = 100\n",
    "\n",
    "redes = []\n",
    "saida = []\n",
    "\n",
    "for i in range(numRedes):\n",
    "    rn = RedeNeural(quant_neuronios)\n",
    "    redes.append(rn)\n",
    "    saida.append(rn.forward(train_images))"
   ]
  },
  {
   "cell_type": "code",
   "execution_count": null,
   "metadata": {
    "colab": {
     "autoexec": {
      "startup": false,
      "wait_interval": 0
     }
    },
    "colab_type": "code",
    "id": "Igps7mZljMYf",
    "outputId": "67ff77fe-5a88-4600-fda8-e4d9a7c67e4f",
    "scrolled": true
   },
   "outputs": [],
   "source": [
    "# faz o treino\n",
    "numGeracao = 0;\n",
    "\n",
    "for i in range(20):\n",
    "    numGeracao = numGeracao +1\n",
    "    print('\\nGeracao: ',numGeracao)\n",
    "    k = 0\n",
    "    \n",
    "    for rn in list(redes):\n",
    "        k = k + 1;\n",
    "        Err = rn.train(train_images,train_labels,alfa)\n",
    "        rr = [rn]\n",
    "        pxx = Teste(rr,train_labels,train_images)\n",
    "        print('   Rede:',k,'  Err =',Err,\" \", pxx,\"%\")\n",
    "        alfa = ((100-pxx)/100)/(5+(numGeracao/30))\n",
    "    \n",
    "    px = Teste(redes,test_labels,test_images)\n",
    "    print('\\n',px,'% de acertos no teste')\n",
    "    "
   ]
  }
 ],
 "metadata": {
  "colab": {
   "collapsed_sections": [],
   "default_view": {},
   "name": "dpee1085_avaliacao1.ipynb",
   "provenance": [],
   "version": "0.3.2",
   "views": {}
  },
  "kernelspec": {
   "display_name": "Python 3",
   "language": "python",
   "name": "python3"
  },
  "language_info": {
   "codemirror_mode": {
    "name": "ipython",
    "version": 3
   },
   "file_extension": ".py",
   "mimetype": "text/x-python",
   "name": "python",
   "nbconvert_exporter": "python",
   "pygments_lexer": "ipython3",
   "version": "3.6.3"
  }
 },
 "nbformat": 4,
 "nbformat_minor": 1
}
